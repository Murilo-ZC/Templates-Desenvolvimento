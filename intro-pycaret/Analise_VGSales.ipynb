{
 "cells": [
  {
   "cell_type": "markdown",
   "id": "566d4dc0-4d37-4fc8-a3fc-b187594fcb89",
   "metadata": {},
   "source": [
    "# Importando as bibliotecas e os dados"
   ]
  },
  {
   "cell_type": "code",
   "execution_count": 1,
   "id": "fcf8bec3-fe63-41a3-91ba-3e765f03dd2d",
   "metadata": {
    "tags": []
   },
   "outputs": [],
   "source": [
    "import pandas as pd"
   ]
  },
  {
   "cell_type": "code",
   "execution_count": 2,
   "id": "d8453f61-9c5d-4a77-b2d6-3d1abf87a79c",
   "metadata": {
    "tags": []
   },
   "outputs": [],
   "source": [
    "df = pd.read_csv(\"./data/vgsales.csv\")"
   ]
  },
  {
   "cell_type": "code",
   "execution_count": null,
   "id": "4e019de9-f88f-4814-a5c7-2d73a938cb76",
   "metadata": {
    "tags": []
   },
   "outputs": [],
   "source": [
    "df.head()"
   ]
  },
  {
   "cell_type": "markdown",
   "id": "eb05a449-40ac-4dd3-9fc9-0102c4251bc6",
   "metadata": {},
   "source": [
    "# Trazendo o PyCaret para aplicar a regressão"
   ]
  },
  {
   "cell_type": "code",
   "execution_count": 4,
   "id": "b1365e06-efaf-44ec-b1ab-a94c0e57911b",
   "metadata": {
    "tags": []
   },
   "outputs": [],
   "source": [
    "from pycaret.regression import *"
   ]
  },
  {
   "cell_type": "code",
   "execution_count": null,
   "id": "3fadae5c-caea-4e3a-934a-f36b627302a3",
   "metadata": {
    "tags": []
   },
   "outputs": [],
   "source": [
    "# Preparando o setup do PyCaret\n",
    "# IMPORTANTE: ativar o use_gpu apenas se você tiver uma GPU para utilizar\n",
    "s = setup(df, target = 'Global_Sales', session_id = 123, use_gpu=True, normalize=True, transformation=True, ignore_features=['Rank','NA_Sales','EU_Sales','JP_Sales','Other_Sales'])"
   ]
  },
  {
   "cell_type": "markdown",
   "id": "2b47b888-d03e-42e6-8380-f12a20cd3ae2",
   "metadata": {},
   "source": [
    "# Comparação entre os modelos"
   ]
  },
  {
   "cell_type": "code",
   "execution_count": null,
   "id": "b50bcaeb-5e8a-4562-a93f-0eea2afb593b",
   "metadata": {
    "tags": []
   },
   "outputs": [],
   "source": [
    "# compare baseline models\n",
    "# Com o n_select, podemos determinar a quantidade de modelos que serão considerados\n",
    "best = compare_models(n_select=10)"
   ]
  },
  {
   "cell_type": "code",
   "execution_count": 6,
   "id": "3bca7509-10ad-467e-8ddd-047c3618e808",
   "metadata": {
    "tags": []
   },
   "outputs": [
    {
     "data": {
      "text/plain": [
       "list"
      ]
     },
     "execution_count": 6,
     "metadata": {},
     "output_type": "execute_result"
    }
   ],
   "source": [
    "type(best)"
   ]
  },
  {
   "cell_type": "markdown",
   "id": "49ae70e9-ea0e-43c4-845f-62d440eb32c1",
   "metadata": {},
   "source": [
    "# Análise do Modelo"
   ]
  },
  {
   "cell_type": "code",
   "execution_count": null,
   "id": "384820e6-b036-4897-a9b8-eef7b9218134",
   "metadata": {
    "tags": []
   },
   "outputs": [],
   "source": [
    "# plot error\n",
    "plot_model(best[0], plot = 'error')"
   ]
  },
  {
   "cell_type": "code",
   "execution_count": null,
   "id": "0b71483d-3d6b-4c17-b084-52145b9faaac",
   "metadata": {
    "tags": []
   },
   "outputs": [],
   "source": [
    "# plot feature importance\n",
    "plot_model(best[0], plot = 'feature')"
   ]
  },
  {
   "cell_type": "code",
   "execution_count": 26,
   "id": "84f262fb-dff3-4a41-9011-189db303b054",
   "metadata": {
    "tags": []
   },
   "outputs": [
    {
     "data": {
      "application/vnd.jupyter.widget-view+json": {
       "model_id": "dacf2fdc81c34246921b8f55e40dbc37",
       "version_major": 2,
       "version_minor": 0
      },
      "text/plain": [
       "interactive(children=(ToggleButtons(description='Plot Type:', icons=('',), options=(('Pipeline Plot', 'pipelin…"
      ]
     },
     "metadata": {},
     "output_type": "display_data"
    }
   ],
   "source": [
    "evaluate_model(best[0])"
   ]
  },
  {
   "cell_type": "markdown",
   "id": "987d9314-cf41-48fe-91fb-2dbeb8f1bb48",
   "metadata": {},
   "source": [
    "# Salvando o Modelo"
   ]
  },
  {
   "cell_type": "code",
   "execution_count": null,
   "id": "f80fc8d9-7a69-4ffe-b0a9-b20efc59d55a",
   "metadata": {
    "tags": []
   },
   "outputs": [],
   "source": [
    "# save pipeline\n",
    "save_model(best[0], 'model_knn')"
   ]
  },
  {
   "cell_type": "markdown",
   "id": "20685d86-47df-4f69-a4c5-7a6c367a2232",
   "metadata": {},
   "source": [
    "# Carregando o Modelo"
   ]
  },
  {
   "cell_type": "code",
   "execution_count": 9,
   "id": "5f1f71d3-76ef-4682-b5b5-df0fcb85c565",
   "metadata": {
    "tags": []
   },
   "outputs": [],
   "source": [
    "import pandas as pd\n",
    "from pycaret.regression import load_model, predict_model"
   ]
  },
  {
   "cell_type": "code",
   "execution_count": 11,
   "id": "1bf8ce59-cd90-4dd6-b776-523bec93881a",
   "metadata": {
    "tags": []
   },
   "outputs": [
    {
     "name": "stdout",
     "output_type": "stream",
     "text": [
      "Transformation Pipeline and Model Successfully Loaded\n"
     ]
    }
   ],
   "source": [
    "# Carregando o modelo\n",
    "model = load_model('model_knn')"
   ]
  },
  {
   "cell_type": "code",
   "execution_count": null,
   "id": "5167bdf0-1aa7-45c1-bb4e-d0b62bbc9feb",
   "metadata": {
    "tags": []
   },
   "outputs": [],
   "source": [
    "# Prepara uma entrada para predição\n",
    "data = pd.DataFrame([[0, 'Ola', 'Wii', 2007, 'rpg', 'Nintendo', 0,0,0,0,0]])\n",
    "data.columns = ['Rank','Name','Platform','Year','Genre','Publisher','NA_Sales','EU_Sales','JP_Sales','Other_Sales','Global_Sales']\n",
    "\n",
    "predictions = predict_model(model, data=data) \n",
    "print({'prediction': predictions['prediction_label'][0]})"
   ]
  },
  {
   "cell_type": "markdown",
   "id": "f536580e-ac19-4bd9-a434-160b3d70fd8d",
   "metadata": {},
   "source": [
    "# Criando uma API Genérica"
   ]
  },
  {
   "cell_type": "code",
   "execution_count": 35,
   "id": "09155c99-caf1-4db7-9504-ab95e31a658e",
   "metadata": {
    "tags": []
   },
   "outputs": [
    {
     "name": "stdout",
     "output_type": "stream",
     "text": [
      "API successfully created. This function only creates a POST API, it doesn't run it automatically. To run your API, please run this command --> !python model_api.py\n"
     ]
    }
   ],
   "source": [
    "# create api\n",
    "create_api(model, 'model_api')"
   ]
  },
  {
   "cell_type": "code",
   "execution_count": null,
   "id": "54247cb4-92d3-480f-af33-318985eb3ba6",
   "metadata": {
    "tags": []
   },
   "outputs": [],
   "source": [
    "# Cria um servidor local na porta 8000\n",
    "!python model_api.py"
   ]
  }
 ],
 "metadata": {
  "kernelspec": {
   "display_name": "Python 3 (ipykernel)",
   "language": "python",
   "name": "python3"
  },
  "language_info": {
   "codemirror_mode": {
    "name": "ipython",
    "version": 3
   },
   "file_extension": ".py",
   "mimetype": "text/x-python",
   "name": "python",
   "nbconvert_exporter": "python",
   "pygments_lexer": "ipython3",
   "version": "3.10.8"
  }
 },
 "nbformat": 4,
 "nbformat_minor": 5
}
